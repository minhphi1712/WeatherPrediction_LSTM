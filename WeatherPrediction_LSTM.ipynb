{
  "nbformat": 4,
  "nbformat_minor": 0,
  "metadata": {
    "colab": {
      "name": "LSTM_Cuoiky.ipynb",
      "provenance": [],
      "collapsed_sections": []
    },
    "kernelspec": {
      "name": "python3",
      "display_name": "Python 3"
    },
    "language_info": {
      "name": "python"
    }
  },
  "cells": [
    {
      "cell_type": "code",
      "source": [
        "#link với google driver\n",
        "from google.colab import drive\n",
        "drive.mount('/content/driver')\n"
      ],
      "metadata": {
        "colab": {
          "base_uri": "https://localhost:8080/"
        },
        "id": "VPIFKLQ7Xdz8",
        "outputId": "b51d4f94-4254-48d2-d930-09f9ff29f59f"
      },
      "execution_count": null,
      "outputs": [
        {
          "output_type": "stream",
          "name": "stdout",
          "text": [
            "Mounted at /content/driver\n"
          ]
        }
      ]
    },
    {
      "cell_type": "code",
      "execution_count": null,
      "metadata": {
        "id": "zIIfUZiXXMKz"
      },
      "outputs": [],
      "source": [
        "#import các thư viện\n",
        "import numpy as np \n",
        "import pandas as pd\n",
        "from tensorflow.keras import layers\n",
        "from tensorflow.keras import models\n",
        "import matplotlib.pyplot as plt\n",
        "%matplotlib inline\n",
        "from sklearn.preprocessing import MinMaxScaler\n",
        "from keras.preprocessing.sequence import TimeseriesGenerator\n",
        "from keras.models import Sequential\n",
        "from keras.layers import Dense\n",
        "from keras.layers import LSTM\n",
        "from keras.layers import Dropout\n",
        "from tensorflow import keras\n",
        "import warnings\n",
        "warnings.filterwarnings(\"ignore\")"
      ]
    },
    {
      "cell_type": "markdown",
      "source": [
        "Load data"
      ],
      "metadata": {
        "id": "y3lgfNlxuaBy"
      }
    },
    {
      "cell_type": "code",
      "source": [
        "dataframe = pd.read_csv('/content/driver/My Drive/Deep-Learning/stock5/weather.csv')\n",
        "dataframe"
      ],
      "metadata": {
        "colab": {
          "base_uri": "https://localhost:8080/",
          "height": 423
        },
        "id": "XVXVHU2Vt9Cm",
        "outputId": "0e032611-d1f6-4d93-ccc3-c27592ed93aa"
      },
      "execution_count": null,
      "outputs": [
        {
          "output_type": "execute_result",
          "data": {
            "text/html": [
              "\n",
              "  <div id=\"df-bd2c7bb3-4021-44f7-bed6-bf8649469711\">\n",
              "    <div class=\"colab-df-container\">\n",
              "      <div>\n",
              "<style scoped>\n",
              "    .dataframe tbody tr th:only-of-type {\n",
              "        vertical-align: middle;\n",
              "    }\n",
              "\n",
              "    .dataframe tbody tr th {\n",
              "        vertical-align: top;\n",
              "    }\n",
              "\n",
              "    .dataframe thead th {\n",
              "        text-align: right;\n",
              "    }\n",
              "</style>\n",
              "<table border=\"1\" class=\"dataframe\">\n",
              "  <thead>\n",
              "    <tr style=\"text-align: right;\">\n",
              "      <th></th>\n",
              "      <th>time</th>\n",
              "      <th>month</th>\n",
              "      <th>temperature</th>\n",
              "      <th>feelslike</th>\n",
              "      <th>wind</th>\n",
              "      <th>direction</th>\n",
              "      <th>gust</th>\n",
              "      <th>cloud</th>\n",
              "      <th>humidity</th>\n",
              "      <th>precipitation</th>\n",
              "      <th>pressure</th>\n",
              "      <th>weather</th>\n",
              "    </tr>\n",
              "  </thead>\n",
              "  <tbody>\n",
              "    <tr>\n",
              "      <th>0</th>\n",
              "      <td>0:00</td>\n",
              "      <td>1</td>\n",
              "      <td>23</td>\n",
              "      <td>25</td>\n",
              "      <td>7</td>\n",
              "      <td>NE</td>\n",
              "      <td>11</td>\n",
              "      <td>21</td>\n",
              "      <td>68</td>\n",
              "      <td>0.0</td>\n",
              "      <td>1010</td>\n",
              "      <td>Clear</td>\n",
              "    </tr>\n",
              "    <tr>\n",
              "      <th>1</th>\n",
              "      <td>3:00</td>\n",
              "      <td>1</td>\n",
              "      <td>22</td>\n",
              "      <td>25</td>\n",
              "      <td>6</td>\n",
              "      <td>NNE</td>\n",
              "      <td>8</td>\n",
              "      <td>22</td>\n",
              "      <td>71</td>\n",
              "      <td>0.0</td>\n",
              "      <td>1010</td>\n",
              "      <td>Clear</td>\n",
              "    </tr>\n",
              "    <tr>\n",
              "      <th>2</th>\n",
              "      <td>6:00</td>\n",
              "      <td>1</td>\n",
              "      <td>22</td>\n",
              "      <td>25</td>\n",
              "      <td>8</td>\n",
              "      <td>ENE</td>\n",
              "      <td>9</td>\n",
              "      <td>16</td>\n",
              "      <td>72</td>\n",
              "      <td>0.0</td>\n",
              "      <td>1011</td>\n",
              "      <td>Sunny</td>\n",
              "    </tr>\n",
              "    <tr>\n",
              "      <th>3</th>\n",
              "      <td>9:00</td>\n",
              "      <td>1</td>\n",
              "      <td>27</td>\n",
              "      <td>30</td>\n",
              "      <td>8</td>\n",
              "      <td>E</td>\n",
              "      <td>9</td>\n",
              "      <td>14</td>\n",
              "      <td>55</td>\n",
              "      <td>0.0</td>\n",
              "      <td>1011</td>\n",
              "      <td>Sunny</td>\n",
              "    </tr>\n",
              "    <tr>\n",
              "      <th>4</th>\n",
              "      <td>12:00</td>\n",
              "      <td>1</td>\n",
              "      <td>32</td>\n",
              "      <td>34</td>\n",
              "      <td>4</td>\n",
              "      <td>ENE</td>\n",
              "      <td>5</td>\n",
              "      <td>46</td>\n",
              "      <td>41</td>\n",
              "      <td>0.0</td>\n",
              "      <td>1009</td>\n",
              "      <td>Partly cloudy</td>\n",
              "    </tr>\n",
              "    <tr>\n",
              "      <th>...</th>\n",
              "      <td>...</td>\n",
              "      <td>...</td>\n",
              "      <td>...</td>\n",
              "      <td>...</td>\n",
              "      <td>...</td>\n",
              "      <td>...</td>\n",
              "      <td>...</td>\n",
              "      <td>...</td>\n",
              "      <td>...</td>\n",
              "      <td>...</td>\n",
              "      <td>...</td>\n",
              "      <td>...</td>\n",
              "    </tr>\n",
              "    <tr>\n",
              "      <th>2915</th>\n",
              "      <td>9:00</td>\n",
              "      <td>12</td>\n",
              "      <td>28</td>\n",
              "      <td>30</td>\n",
              "      <td>16</td>\n",
              "      <td>NNE</td>\n",
              "      <td>18</td>\n",
              "      <td>8</td>\n",
              "      <td>59</td>\n",
              "      <td>0.0</td>\n",
              "      <td>1013</td>\n",
              "      <td>Sunny</td>\n",
              "    </tr>\n",
              "    <tr>\n",
              "      <th>2916</th>\n",
              "      <td>12:00</td>\n",
              "      <td>12</td>\n",
              "      <td>32</td>\n",
              "      <td>36</td>\n",
              "      <td>13</td>\n",
              "      <td>NNE</td>\n",
              "      <td>15</td>\n",
              "      <td>15</td>\n",
              "      <td>49</td>\n",
              "      <td>0.0</td>\n",
              "      <td>1012</td>\n",
              "      <td>Sunny</td>\n",
              "    </tr>\n",
              "    <tr>\n",
              "      <th>2917</th>\n",
              "      <td>15:00</td>\n",
              "      <td>12</td>\n",
              "      <td>32</td>\n",
              "      <td>36</td>\n",
              "      <td>10</td>\n",
              "      <td>NNE</td>\n",
              "      <td>13</td>\n",
              "      <td>26</td>\n",
              "      <td>53</td>\n",
              "      <td>0.0</td>\n",
              "      <td>1010</td>\n",
              "      <td>Partly cloudy</td>\n",
              "    </tr>\n",
              "    <tr>\n",
              "      <th>2918</th>\n",
              "      <td>18:00</td>\n",
              "      <td>12</td>\n",
              "      <td>27</td>\n",
              "      <td>28</td>\n",
              "      <td>15</td>\n",
              "      <td>N</td>\n",
              "      <td>26</td>\n",
              "      <td>71</td>\n",
              "      <td>55</td>\n",
              "      <td>0.0</td>\n",
              "      <td>1013</td>\n",
              "      <td>Cloudy</td>\n",
              "    </tr>\n",
              "    <tr>\n",
              "      <th>2919</th>\n",
              "      <td>21:00</td>\n",
              "      <td>12</td>\n",
              "      <td>25</td>\n",
              "      <td>27</td>\n",
              "      <td>14</td>\n",
              "      <td>N</td>\n",
              "      <td>24</td>\n",
              "      <td>65</td>\n",
              "      <td>68</td>\n",
              "      <td>0.7</td>\n",
              "      <td>1014</td>\n",
              "      <td>Light rain shower</td>\n",
              "    </tr>\n",
              "  </tbody>\n",
              "</table>\n",
              "<p>2920 rows × 12 columns</p>\n",
              "</div>\n",
              "      <button class=\"colab-df-convert\" onclick=\"convertToInteractive('df-bd2c7bb3-4021-44f7-bed6-bf8649469711')\"\n",
              "              title=\"Convert this dataframe to an interactive table.\"\n",
              "              style=\"display:none;\">\n",
              "        \n",
              "  <svg xmlns=\"http://www.w3.org/2000/svg\" height=\"24px\"viewBox=\"0 0 24 24\"\n",
              "       width=\"24px\">\n",
              "    <path d=\"M0 0h24v24H0V0z\" fill=\"none\"/>\n",
              "    <path d=\"M18.56 5.44l.94 2.06.94-2.06 2.06-.94-2.06-.94-.94-2.06-.94 2.06-2.06.94zm-11 1L8.5 8.5l.94-2.06 2.06-.94-2.06-.94L8.5 2.5l-.94 2.06-2.06.94zm10 10l.94 2.06.94-2.06 2.06-.94-2.06-.94-.94-2.06-.94 2.06-2.06.94z\"/><path d=\"M17.41 7.96l-1.37-1.37c-.4-.4-.92-.59-1.43-.59-.52 0-1.04.2-1.43.59L10.3 9.45l-7.72 7.72c-.78.78-.78 2.05 0 2.83L4 21.41c.39.39.9.59 1.41.59.51 0 1.02-.2 1.41-.59l7.78-7.78 2.81-2.81c.8-.78.8-2.07 0-2.86zM5.41 20L4 18.59l7.72-7.72 1.47 1.35L5.41 20z\"/>\n",
              "  </svg>\n",
              "      </button>\n",
              "      \n",
              "  <style>\n",
              "    .colab-df-container {\n",
              "      display:flex;\n",
              "      flex-wrap:wrap;\n",
              "      gap: 12px;\n",
              "    }\n",
              "\n",
              "    .colab-df-convert {\n",
              "      background-color: #E8F0FE;\n",
              "      border: none;\n",
              "      border-radius: 50%;\n",
              "      cursor: pointer;\n",
              "      display: none;\n",
              "      fill: #1967D2;\n",
              "      height: 32px;\n",
              "      padding: 0 0 0 0;\n",
              "      width: 32px;\n",
              "    }\n",
              "\n",
              "    .colab-df-convert:hover {\n",
              "      background-color: #E2EBFA;\n",
              "      box-shadow: 0px 1px 2px rgba(60, 64, 67, 0.3), 0px 1px 3px 1px rgba(60, 64, 67, 0.15);\n",
              "      fill: #174EA6;\n",
              "    }\n",
              "\n",
              "    [theme=dark] .colab-df-convert {\n",
              "      background-color: #3B4455;\n",
              "      fill: #D2E3FC;\n",
              "    }\n",
              "\n",
              "    [theme=dark] .colab-df-convert:hover {\n",
              "      background-color: #434B5C;\n",
              "      box-shadow: 0px 1px 3px 1px rgba(0, 0, 0, 0.15);\n",
              "      filter: drop-shadow(0px 1px 2px rgba(0, 0, 0, 0.3));\n",
              "      fill: #FFFFFF;\n",
              "    }\n",
              "  </style>\n",
              "\n",
              "      <script>\n",
              "        const buttonEl =\n",
              "          document.querySelector('#df-bd2c7bb3-4021-44f7-bed6-bf8649469711 button.colab-df-convert');\n",
              "        buttonEl.style.display =\n",
              "          google.colab.kernel.accessAllowed ? 'block' : 'none';\n",
              "\n",
              "        async function convertToInteractive(key) {\n",
              "          const element = document.querySelector('#df-bd2c7bb3-4021-44f7-bed6-bf8649469711');\n",
              "          const dataTable =\n",
              "            await google.colab.kernel.invokeFunction('convertToInteractive',\n",
              "                                                     [key], {});\n",
              "          if (!dataTable) return;\n",
              "\n",
              "          const docLinkHtml = 'Like what you see? Visit the ' +\n",
              "            '<a target=\"_blank\" href=https://colab.research.google.com/notebooks/data_table.ipynb>data table notebook</a>'\n",
              "            + ' to learn more about interactive tables.';\n",
              "          element.innerHTML = '';\n",
              "          dataTable['output_type'] = 'display_data';\n",
              "          await google.colab.output.renderOutput(dataTable, element);\n",
              "          const docLink = document.createElement('div');\n",
              "          docLink.innerHTML = docLinkHtml;\n",
              "          element.appendChild(docLink);\n",
              "        }\n",
              "      </script>\n",
              "    </div>\n",
              "  </div>\n",
              "  "
            ],
            "text/plain": [
              "       time  month  temperature  ...  precipitation  pressure            weather\n",
              "0      0:00      1           23  ...            0.0      1010              Clear\n",
              "1      3:00      1           22  ...            0.0      1010              Clear\n",
              "2      6:00      1           22  ...            0.0      1011              Sunny\n",
              "3      9:00      1           27  ...            0.0      1011              Sunny\n",
              "4     12:00      1           32  ...            0.0      1009      Partly cloudy\n",
              "...     ...    ...          ...  ...            ...       ...                ...\n",
              "2915   9:00     12           28  ...            0.0      1013              Sunny\n",
              "2916  12:00     12           32  ...            0.0      1012              Sunny\n",
              "2917  15:00     12           32  ...            0.0      1010      Partly cloudy\n",
              "2918  18:00     12           27  ...            0.0      1013             Cloudy\n",
              "2919  21:00     12           25  ...            0.7      1014  Light rain shower\n",
              "\n",
              "[2920 rows x 12 columns]"
            ]
          },
          "metadata": {},
          "execution_count": 5
        }
      ]
    },
    {
      "cell_type": "code",
      "source": [
        "#import dataset\n",
        "#chuyển data về dạng numpy\n",
        "data = np.array(dataframe.values)\n",
        "data_end = int(np.floor(0.8*(dataframe.shape[0])))\n",
        "train = dataframe[0:data_end]['temperature']\n",
        "train =train.values.reshape(-1)\n",
        "test = dataframe[data_end:]['temperature'].values.reshape(-1)\n",
        "date_test = dataframe[data_end:]['time'].values.reshape(-1)"
      ],
      "metadata": {
        "id": "s6R7wyZZXabO"
      },
      "execution_count": null,
      "outputs": []
    },
    {
      "cell_type": "code",
      "source": [
        "# chia dữ liệu X ; X các cột đầu\n",
        "x = data[:,0:-1]\n",
        "print(x.shape)\n",
        "print(x[:5])"
      ],
      "metadata": {
        "colab": {
          "base_uri": "https://localhost:8080/"
        },
        "id": "USeWc7yHxkfh",
        "outputId": "c8dccc3c-9aee-4d7f-91c4-5f67f755ec50"
      },
      "execution_count": null,
      "outputs": [
        {
          "output_type": "stream",
          "name": "stdout",
          "text": [
            "(2920, 11)\n",
            "[['0:00' 1 23 25 7 'NE' 11 21 68 0.0 1010]\n",
            " ['3:00' 1 22 25 6 'NNE' 8 22 71 0.0 1010]\n",
            " ['6:00' 1 22 25 8 'ENE' 9 16 72 0.0 1011]\n",
            " ['9:00' 1 27 30 8 'E' 9 14 55 0.0 1011]\n",
            " ['12:00' 1 32 34 4 'ENE' 5 46 41 0.0 1009]]\n"
          ]
        }
      ]
    },
    {
      "cell_type": "code",
      "source": [
        "# chia dữ liệu y ; y là cột cuối\n",
        "y = data[:,-1]\n",
        "y.ravel()\n",
        "print(y.shape)\n",
        "print(y[:10])"
      ],
      "metadata": {
        "colab": {
          "base_uri": "https://localhost:8080/"
        },
        "id": "zC2KgChOxokH",
        "outputId": "86b51592-3d41-4d3e-9b05-26311299d097"
      },
      "execution_count": null,
      "outputs": [
        {
          "output_type": "stream",
          "name": "stdout",
          "text": [
            "(2920,)\n",
            "['Clear' 'Clear' 'Sunny' 'Sunny' 'Partly cloudy' 'Sunny' 'Clear' 'Clear'\n",
            " 'Clear' 'Clear']\n"
          ]
        }
      ]
    },
    {
      "cell_type": "code",
      "source": [
        "#đếm các giá trị trong y\n",
        "from collections import Counter\n",
        "counter = Counter()\n",
        "counter.update(y)\n",
        "print(counter)"
      ],
      "metadata": {
        "colab": {
          "base_uri": "https://localhost:8080/"
        },
        "id": "Zu29eqcuyNms",
        "outputId": "3bc11bd9-1c5c-4982-d123-b3ab2564ead4"
      },
      "execution_count": null,
      "outputs": [
        {
          "output_type": "stream",
          "name": "stdout",
          "text": [
            "Counter({'Partly cloudy': 1096, 'Clear': 581, 'Sunny': 532, 'Cloudy': 184, 'Moderate or heavy rain shower': 122, 'Patchy rain possible': 119, 'Light rain shower': 115, 'Overcast': 71, 'Thundery outbreaks possible': 31, 'Torrential rain shower': 19, 'Patchy light rain with thunder': 11, 'Patchy light rain': 8, 'Light rain': 7, 'Patchy light drizzle': 6, 'Light drizzle': 5, 'Moderate rain': 4, 'Mist': 3, 'Heavy rain': 3, 'Moderate rain at times': 2, 'Heavy rain at times': 1})\n"
          ]
        }
      ]
    },
    {
      "cell_type": "code",
      "source": [
        "#chuẩn hóa dữ liệu\n",
        "from sklearn.preprocessing import LabelEncoder\n",
        "encoder = LabelEncoder()\n",
        "y = encoder.fit_transform(y)\n",
        "print(y)"
      ],
      "metadata": {
        "colab": {
          "base_uri": "https://localhost:8080/"
        },
        "id": "yIfqxV73yP6z",
        "outputId": "d35fe21d-8996-4371-bd7b-6ed95e39b74e"
      },
      "execution_count": null,
      "outputs": [
        {
          "output_type": "stream",
          "name": "stdout",
          "text": [
            "[ 0  0 17 ... 12  1  6]\n"
          ]
        }
      ]
    },
    {
      "cell_type": "code",
      "source": [
        "#xử lý dữ liệu\n",
        "def get_data(train,test,time_step,num_predict,date):\n",
        "  x_train= list()\n",
        "  y_train = list()\n",
        "  x_test = list()\n",
        "  y_test = list()\n",
        "  date_test= list()\n",
        "\n",
        "  for i in range(0,len(train) - time_step - num_predict):\n",
        "    x_train.append(train[i:i+time_step])\n",
        "    y_train.append(train[i+time_step:i+time_step+num_predict])\n",
        "\n",
        "  for i in range(0, len(test) - time_step - num_predict):\n",
        "    x_test.append(test[i:i+time_step])\n",
        "    y_test.append(test[i+time_step:i+time_step+num_predict])\n",
        "    date_test.append(date[i+time_step:i+time_step+num_predict])\n",
        "  \n",
        "  return np.asarray(x_train), np.asarray(y_train), np.asarray(x_test), np.asarray(y_test), np.asarray(date_test)"
      ],
      "metadata": {
        "id": "Ga-IcMN5YuHD"
      },
      "execution_count": null,
      "outputs": []
    },
    {
      "cell_type": "code",
      "source": [
        "#chia bộ dữ liệu train, test\n",
        "x_train, y_train, x_test, y_test, date_test = get_data(train,test,30,1, date_test)\n",
        "\n",
        "# đưa về 0->1 cho tập train\n",
        "scaler = MinMaxScaler()\n",
        "x_train = x_train.reshape(-1,30)\n",
        "\n",
        "x_train = scaler.fit_transform(x_train)\n",
        "y_train = scaler.fit_transform(y_train)\n",
        "\n",
        "# đưa về 0->1 cho tập test\n",
        "x_test = x_test.reshape(-1,30)\n",
        "\n",
        "x_test = scaler.fit_transform(x_test)\n",
        "y_test = scaler.fit_transform(y_test)"
      ],
      "metadata": {
        "id": "rPuCmXQTfE9_"
      },
      "execution_count": null,
      "outputs": []
    },
    {
      "cell_type": "code",
      "source": [
        "print(x_train[:2])\n",
        "print(x_train.shape[0])\n",
        "print(x_train.shape[1])"
      ],
      "metadata": {
        "colab": {
          "base_uri": "https://localhost:8080/"
        },
        "id": "L0uFtRLXy363",
        "outputId": "271f8a0f-60f2-412d-c9ee-7237b55233d4"
      },
      "execution_count": null,
      "outputs": [
        {
          "output_type": "stream",
          "name": "stdout",
          "text": [
            "[[0.16666667 0.11111111 0.11111111 0.38888889 0.66666667 0.61111111\n",
            "  0.33333333 0.22222222 0.16666667 0.11111111 0.11111111 0.44444444\n",
            "  0.66666667 0.61111111 0.33333333 0.27777778 0.22222222 0.16666667\n",
            "  0.16666667 0.5        0.72222222 0.66666667 0.38888889 0.27777778\n",
            "  0.27777778 0.22222222 0.22222222 0.5        0.72222222 0.72222222]\n",
            " [0.11111111 0.11111111 0.38888889 0.66666667 0.61111111 0.33333333\n",
            "  0.22222222 0.16666667 0.11111111 0.11111111 0.44444444 0.66666667\n",
            "  0.61111111 0.33333333 0.27777778 0.22222222 0.16666667 0.16666667\n",
            "  0.5        0.72222222 0.66666667 0.38888889 0.27777778 0.27777778\n",
            "  0.22222222 0.22222222 0.5        0.72222222 0.72222222 0.44444444]]\n",
            "2305\n",
            "30\n"
          ]
        }
      ]
    },
    {
      "cell_type": "code",
      "source": [
        "print(x_train.shape[1])"
      ],
      "metadata": {
        "colab": {
          "base_uri": "https://localhost:8080/"
        },
        "id": "7LJQCWu_zlcp",
        "outputId": "6080d762-54ee-4ddd-f70d-a7df0423a09b"
      },
      "execution_count": null,
      "outputs": [
        {
          "output_type": "stream",
          "name": "stdout",
          "text": [
            "30\n"
          ]
        }
      ]
    },
    {
      "cell_type": "code",
      "source": [
        "#embed_dim = 128\n",
        "hidden_size = 200\n",
        "batch_size = 32\n",
        "\n",
        "timesteps = x_train.shape[1]\n",
        "x_dim = 1\n",
        "\n",
        "model = models.Sequential()\n",
        "model.add(layers.SimpleRNN(hidden_size,input_shape=(timesteps,x_dim)))\n",
        "model.add(layers.Dense(128,activation='sigmoid'))\n",
        "model.add(layers.Dense(3,activation='softmax'))\n",
        "model.compile(loss = 'categorical_crossentropy', optimizer='adam',metrics = ['accuracy'])\n",
        "print(model.summary())"
      ],
      "metadata": {
        "colab": {
          "base_uri": "https://localhost:8080/"
        },
        "id": "EUDRQvQH0-Be",
        "outputId": "d2ef432e-7f5c-4937-e6aa-33c414091e60"
      },
      "execution_count": null,
      "outputs": [
        {
          "output_type": "stream",
          "name": "stdout",
          "text": [
            "Model: \"sequential\"\n",
            "_________________________________________________________________\n",
            " Layer (type)                Output Shape              Param #   \n",
            "=================================================================\n",
            " simple_rnn (SimpleRNN)      (None, 200)               40400     \n",
            "                                                                 \n",
            " dense (Dense)               (None, 128)               25728     \n",
            "                                                                 \n",
            " dense_1 (Dense)             (None, 3)                 387       \n",
            "                                                                 \n",
            "=================================================================\n",
            "Total params: 66,515\n",
            "Trainable params: 66,515\n",
            "Non-trainable params: 0\n",
            "_________________________________________________________________\n",
            "None\n"
          ]
        }
      ]
    },
    {
      "cell_type": "code",
      "source": [
        "# Reshape lại cho đúng model\n",
        "x_train = x_train.reshape(-1,30,1)\n",
        "y_train = y_train.reshape(-1,1)\n"
      ],
      "metadata": {
        "id": "Soc40J4GfNS_"
      },
      "execution_count": null,
      "outputs": []
    },
    {
      "cell_type": "code",
      "source": [
        "#reshape lại cho test\n",
        "x_test = x_test.reshape(-1,30,1)\n",
        "y_test = y_test.reshape(-1,1)\n",
        "date_test = date_test.reshape(-1,1)"
      ],
      "metadata": {
        "id": "ex2rf7KdFdKS"
      },
      "execution_count": null,
      "outputs": []
    },
    {
      "cell_type": "code",
      "source": [
        "# chỉnh lại đầu vào \n",
        "print(x_train.shape)\n",
        "n_examples = x_train.shape[0]\n",
        "time_steps = x_train.shape[1] \n",
        "X_train_transformed = x_train.reshape(n_examples,time_steps,1)\n",
        "print(X_train_transformed.shape)"
      ],
      "metadata": {
        "colab": {
          "base_uri": "https://localhost:8080/"
        },
        "id": "tBZBH5m_1vdd",
        "outputId": "24275bc1-4e3f-4fc2-b499-df7aa2195534"
      },
      "execution_count": null,
      "outputs": [
        {
          "output_type": "stream",
          "name": "stdout",
          "text": [
            "(2305, 30, 1)\n",
            "(2305, 30, 1)\n"
          ]
        }
      ]
    },
    {
      "cell_type": "code",
      "source": [
        "# xây dựng mô hình mạng\n",
        "# đầu vào 30 đoạn 1\n",
        "n_input = 30\n",
        "n_features = 1\n",
        "\n",
        "model = Sequential()\n",
        "model.add(LSTM(units=50,activation='relu', input_shape=(n_input, n_features), return_sequences=True))\n",
        "model.add(Dropout(0.3))\n",
        "\n",
        "model.add(LSTM(units=50, return_sequences=True))\n",
        "model.add(Dropout(0.3))\n",
        "\n",
        "model.add(LSTM(units=50))\n",
        "model.add(Dropout(0.3))\n",
        "model.add(Dense(1))"
      ],
      "metadata": {
        "id": "W65Gka7UfVEw"
      },
      "execution_count": null,
      "outputs": []
    },
    {
      "cell_type": "code",
      "source": [
        "#tối ưu hóa thuật toán\n",
        "model.compile(optimizer='adam', loss='mse')"
      ],
      "metadata": {
        "id": "DSuMiTNnwcpO"
      },
      "execution_count": null,
      "outputs": []
    },
    {
      "cell_type": "code",
      "source": [
        "#huấn luyện mạng\n",
        "model.fit(x_train, y_train, epochs=100, validation_split=0.2, verbose=1, batch_size=30)\n",
        "model.save('/content/driver/My Drive/Deep-Learning/stock5/30_to_1.h5')"
      ],
      "metadata": {
        "colab": {
          "base_uri": "https://localhost:8080/"
        },
        "id": "CkW0Ow9Qwest",
        "outputId": "18c02bad-7e3a-43b3-8e09-f416b6001266"
      },
      "execution_count": null,
      "outputs": [
        {
          "output_type": "stream",
          "name": "stdout",
          "text": [
            "Epoch 1/100\n",
            "62/62 [==============================] - 10s 72ms/step - loss: 0.0483 - val_loss: 0.0207\n",
            "Epoch 2/100\n",
            "62/62 [==============================] - 4s 58ms/step - loss: 0.0338 - val_loss: 0.0229\n",
            "Epoch 3/100\n",
            "62/62 [==============================] - 3s 54ms/step - loss: 0.0316 - val_loss: 0.0203\n",
            "Epoch 4/100\n",
            "62/62 [==============================] - 4s 57ms/step - loss: 0.0318 - val_loss: 0.0207\n",
            "Epoch 5/100\n",
            "62/62 [==============================] - 3s 53ms/step - loss: 0.0319 - val_loss: 0.0203\n",
            "Epoch 6/100\n",
            "62/62 [==============================] - 3s 56ms/step - loss: 0.0315 - val_loss: 0.0208\n",
            "Epoch 7/100\n",
            "62/62 [==============================] - 3s 52ms/step - loss: 0.0296 - val_loss: 0.0196\n",
            "Epoch 8/100\n",
            "62/62 [==============================] - 4s 60ms/step - loss: 0.0281 - val_loss: 0.0198\n",
            "Epoch 9/100\n",
            "62/62 [==============================] - 3s 53ms/step - loss: 0.0278 - val_loss: 0.0164\n",
            "Epoch 10/100\n",
            "62/62 [==============================] - 3s 52ms/step - loss: 0.0216 - val_loss: 0.0097\n",
            "Epoch 11/100\n",
            "62/62 [==============================] - 3s 54ms/step - loss: 0.0156 - val_loss: 0.0097\n",
            "Epoch 12/100\n",
            "62/62 [==============================] - 4s 57ms/step - loss: 0.0104 - val_loss: 0.0071\n",
            "Epoch 13/100\n",
            "62/62 [==============================] - 4s 58ms/step - loss: 0.0096 - val_loss: 0.0052\n",
            "Epoch 14/100\n",
            "62/62 [==============================] - 3s 56ms/step - loss: 0.0093 - val_loss: 0.0054\n",
            "Epoch 15/100\n",
            "62/62 [==============================] - 3s 54ms/step - loss: 0.0087 - val_loss: 0.0085\n",
            "Epoch 16/100\n",
            "62/62 [==============================] - 3s 53ms/step - loss: 0.0096 - val_loss: 0.0067\n",
            "Epoch 17/100\n",
            "62/62 [==============================] - 4s 58ms/step - loss: 0.0077 - val_loss: 0.0051\n",
            "Epoch 18/100\n",
            "62/62 [==============================] - 3s 54ms/step - loss: 0.0085 - val_loss: 0.0068\n",
            "Epoch 19/100\n",
            "62/62 [==============================] - 3s 55ms/step - loss: 0.0083 - val_loss: 0.0049\n",
            "Epoch 20/100\n",
            "62/62 [==============================] - 3s 53ms/step - loss: 0.0071 - val_loss: 0.0050\n",
            "Epoch 21/100\n",
            "62/62 [==============================] - 3s 55ms/step - loss: 0.0075 - val_loss: 0.0043\n",
            "Epoch 22/100\n",
            "62/62 [==============================] - 3s 55ms/step - loss: 0.0069 - val_loss: 0.0042\n",
            "Epoch 23/100\n",
            "62/62 [==============================] - 4s 60ms/step - loss: 0.0071 - val_loss: 0.0049\n",
            "Epoch 24/100\n",
            "62/62 [==============================] - 4s 57ms/step - loss: 0.0062 - val_loss: 0.0044\n",
            "Epoch 25/100\n",
            "62/62 [==============================] - 3s 55ms/step - loss: 0.0073 - val_loss: 0.0042\n",
            "Epoch 26/100\n",
            "62/62 [==============================] - 3s 56ms/step - loss: 0.0064 - val_loss: 0.0040\n",
            "Epoch 27/100\n",
            "62/62 [==============================] - 3s 56ms/step - loss: 0.0062 - val_loss: 0.0045\n",
            "Epoch 28/100\n",
            "62/62 [==============================] - 3s 51ms/step - loss: 0.0059 - val_loss: 0.0042\n",
            "Epoch 29/100\n",
            "62/62 [==============================] - 3s 56ms/step - loss: 0.0062 - val_loss: 0.0038\n",
            "Epoch 30/100\n",
            "62/62 [==============================] - 4s 60ms/step - loss: 0.0064 - val_loss: 0.0038\n",
            "Epoch 31/100\n",
            "62/62 [==============================] - 4s 58ms/step - loss: 0.0058 - val_loss: 0.0040\n",
            "Epoch 32/100\n",
            "62/62 [==============================] - 3s 54ms/step - loss: 0.0057 - val_loss: 0.0039\n",
            "Epoch 33/100\n",
            "62/62 [==============================] - 3s 55ms/step - loss: 0.0054 - val_loss: 0.0044\n",
            "Epoch 34/100\n",
            "62/62 [==============================] - 3s 55ms/step - loss: 0.0059 - val_loss: 0.0045\n",
            "Epoch 35/100\n",
            "62/62 [==============================] - 3s 54ms/step - loss: 0.0060 - val_loss: 0.0041\n",
            "Epoch 36/100\n",
            "62/62 [==============================] - 3s 56ms/step - loss: 0.0054 - val_loss: 0.0043\n",
            "Epoch 37/100\n",
            "62/62 [==============================] - 4s 57ms/step - loss: 0.0056 - val_loss: 0.0040\n",
            "Epoch 38/100\n",
            "62/62 [==============================] - 3s 54ms/step - loss: 0.0055 - val_loss: 0.0037\n",
            "Epoch 39/100\n",
            "62/62 [==============================] - 3s 55ms/step - loss: 0.0053 - val_loss: 0.0047\n",
            "Epoch 40/100\n",
            "62/62 [==============================] - 3s 55ms/step - loss: 0.0054 - val_loss: 0.0040\n",
            "Epoch 41/100\n",
            "62/62 [==============================] - 4s 59ms/step - loss: 0.0055 - val_loss: 0.0068\n",
            "Epoch 42/100\n",
            "62/62 [==============================] - 3s 54ms/step - loss: 0.0051 - val_loss: 0.0037\n",
            "Epoch 43/100\n",
            "62/62 [==============================] - 3s 54ms/step - loss: 0.0055 - val_loss: 0.0035\n",
            "Epoch 44/100\n",
            "62/62 [==============================] - 3s 54ms/step - loss: 0.0053 - val_loss: 0.0039\n",
            "Epoch 45/100\n",
            "62/62 [==============================] - 3s 56ms/step - loss: 0.0051 - val_loss: 0.0044\n",
            "Epoch 46/100\n",
            "62/62 [==============================] - 4s 57ms/step - loss: 0.0053 - val_loss: 0.0034\n",
            "Epoch 47/100\n",
            "62/62 [==============================] - 3s 51ms/step - loss: 0.0050 - val_loss: 0.0034\n",
            "Epoch 48/100\n",
            "62/62 [==============================] - 3s 56ms/step - loss: 0.0051 - val_loss: 0.0034\n",
            "Epoch 49/100\n",
            "62/62 [==============================] - 4s 57ms/step - loss: 0.0052 - val_loss: 0.0040\n",
            "Epoch 50/100\n",
            "62/62 [==============================] - 3s 54ms/step - loss: 0.0048 - val_loss: 0.0037\n",
            "Epoch 51/100\n",
            "62/62 [==============================] - 3s 50ms/step - loss: 0.0054 - val_loss: 0.0037\n",
            "Epoch 52/100\n",
            "62/62 [==============================] - 3s 53ms/step - loss: 0.0049 - val_loss: 0.0037\n",
            "Epoch 53/100\n",
            "62/62 [==============================] - 3s 51ms/step - loss: 0.0050 - val_loss: 0.0033\n",
            "Epoch 54/100\n",
            "62/62 [==============================] - 3s 56ms/step - loss: 0.0047 - val_loss: 0.0043\n",
            "Epoch 55/100\n",
            "62/62 [==============================] - 3s 54ms/step - loss: 0.0047 - val_loss: 0.0034\n",
            "Epoch 56/100\n",
            "62/62 [==============================] - 3s 54ms/step - loss: 0.0047 - val_loss: 0.0034\n",
            "Epoch 57/100\n",
            "62/62 [==============================] - 4s 57ms/step - loss: 0.0043 - val_loss: 0.0036\n",
            "Epoch 58/100\n",
            "62/62 [==============================] - 4s 60ms/step - loss: 0.0045 - val_loss: 0.0037\n",
            "Epoch 59/100\n",
            "62/62 [==============================] - 3s 52ms/step - loss: 0.0044 - val_loss: 0.0034\n",
            "Epoch 60/100\n",
            "62/62 [==============================] - 4s 59ms/step - loss: 0.0045 - val_loss: 0.0033\n",
            "Epoch 61/100\n",
            "62/62 [==============================] - 4s 58ms/step - loss: 0.0044 - val_loss: 0.0034\n",
            "Epoch 62/100\n",
            "62/62 [==============================] - 4s 57ms/step - loss: 0.0047 - val_loss: 0.0035\n",
            "Epoch 63/100\n",
            "62/62 [==============================] - 3s 57ms/step - loss: 0.0043 - val_loss: 0.0035\n",
            "Epoch 64/100\n",
            "62/62 [==============================] - 4s 57ms/step - loss: 0.0045 - val_loss: 0.0031\n",
            "Epoch 65/100\n",
            "62/62 [==============================] - 4s 60ms/step - loss: 0.0043 - val_loss: 0.0034\n",
            "Epoch 66/100\n",
            "62/62 [==============================] - 4s 60ms/step - loss: 0.0045 - val_loss: 0.0033\n",
            "Epoch 67/100\n",
            "62/62 [==============================] - 3s 56ms/step - loss: 0.0042 - val_loss: 0.0031\n",
            "Epoch 68/100\n",
            "62/62 [==============================] - 4s 57ms/step - loss: 0.0043 - val_loss: 0.0038\n",
            "Epoch 69/100\n",
            "62/62 [==============================] - 4s 60ms/step - loss: 0.0043 - val_loss: 0.0033\n",
            "Epoch 70/100\n",
            "62/62 [==============================] - 4s 57ms/step - loss: 0.0043 - val_loss: 0.0035\n",
            "Epoch 71/100\n",
            "62/62 [==============================] - 4s 57ms/step - loss: 0.0043 - val_loss: 0.0035\n",
            "Epoch 72/100\n",
            "62/62 [==============================] - 4s 59ms/step - loss: 0.0046 - val_loss: 0.0034\n",
            "Epoch 73/100\n",
            "62/62 [==============================] - 4s 59ms/step - loss: 0.0043 - val_loss: 0.0034\n",
            "Epoch 74/100\n",
            "62/62 [==============================] - 4s 59ms/step - loss: 0.0044 - val_loss: 0.0035\n",
            "Epoch 75/100\n",
            "62/62 [==============================] - 3s 52ms/step - loss: 0.0041 - val_loss: 0.0034\n",
            "Epoch 76/100\n",
            "62/62 [==============================] - 3s 54ms/step - loss: 0.0040 - val_loss: 0.0032\n",
            "Epoch 77/100\n",
            "62/62 [==============================] - 3s 51ms/step - loss: 0.0044 - val_loss: 0.0033\n",
            "Epoch 78/100\n",
            "62/62 [==============================] - 3s 51ms/step - loss: 0.0040 - val_loss: 0.0032\n",
            "Epoch 79/100\n",
            "62/62 [==============================] - 4s 58ms/step - loss: 0.0042 - val_loss: 0.0033\n",
            "Epoch 80/100\n",
            "62/62 [==============================] - 3s 56ms/step - loss: 0.0040 - val_loss: 0.0037\n",
            "Epoch 81/100\n",
            "62/62 [==============================] - 3s 52ms/step - loss: 0.0042 - val_loss: 0.0034\n",
            "Epoch 82/100\n",
            "62/62 [==============================] - 3s 56ms/step - loss: 0.0042 - val_loss: 0.0033\n",
            "Epoch 83/100\n",
            "62/62 [==============================] - 3s 51ms/step - loss: 0.0040 - val_loss: 0.0033\n",
            "Epoch 84/100\n",
            "62/62 [==============================] - 4s 60ms/step - loss: 0.0039 - val_loss: 0.0031\n",
            "Epoch 85/100\n",
            "62/62 [==============================] - 4s 59ms/step - loss: 0.0040 - val_loss: 0.0031\n",
            "Epoch 86/100\n",
            "62/62 [==============================] - 3s 56ms/step - loss: 0.0038 - val_loss: 0.0031\n",
            "Epoch 87/100\n",
            "62/62 [==============================] - 4s 58ms/step - loss: 0.0038 - val_loss: 0.0032\n",
            "Epoch 88/100\n",
            "62/62 [==============================] - 4s 58ms/step - loss: 0.0036 - val_loss: 0.0031\n",
            "Epoch 89/100\n",
            "62/62 [==============================] - 4s 58ms/step - loss: 0.0040 - val_loss: 0.0032\n",
            "Epoch 90/100\n",
            "62/62 [==============================] - 4s 60ms/step - loss: 0.0039 - val_loss: 0.0029\n",
            "Epoch 91/100\n",
            "62/62 [==============================] - 4s 58ms/step - loss: 0.0039 - val_loss: 0.0035\n",
            "Epoch 92/100\n",
            "62/62 [==============================] - 4s 61ms/step - loss: 0.0037 - val_loss: 0.0036\n",
            "Epoch 93/100\n",
            "62/62 [==============================] - 4s 61ms/step - loss: 0.0038 - val_loss: 0.0033\n",
            "Epoch 94/100\n",
            "62/62 [==============================] - 4s 58ms/step - loss: 0.0038 - val_loss: 0.0034\n",
            "Epoch 95/100\n",
            "62/62 [==============================] - 4s 57ms/step - loss: 0.0041 - val_loss: 0.0032\n",
            "Epoch 96/100\n",
            "62/62 [==============================] - 3s 53ms/step - loss: 0.0040 - val_loss: 0.0033\n",
            "Epoch 97/100\n",
            "62/62 [==============================] - 3s 54ms/step - loss: 0.0038 - val_loss: 0.0032\n",
            "Epoch 98/100\n",
            "62/62 [==============================] - 3s 53ms/step - loss: 0.0039 - val_loss: 0.0032\n",
            "Epoch 99/100\n",
            "62/62 [==============================] - 3s 56ms/step - loss: 0.0038 - val_loss: 0.0031\n",
            "Epoch 100/100\n",
            "62/62 [==============================] - 4s 60ms/step - loss: 0.0036 - val_loss: 0.0034\n"
          ]
        }
      ]
    },
    {
      "cell_type": "code",
      "source": [
        "#chạy kết quả test\n",
        "model = keras.models.load_model('/content/driver/My Drive/Deep-Learning/stock5/30_to_1.h5')\n",
        "\n",
        "test_output = model.predict(x_test)\n",
        "\n",
        "# print(test_output)\n",
        "test_1 = scaler.inverse_transform(test_output)\n",
        "test_2=scaler.inverse_transform(y_test)\n",
        "plt.plot(test_1[:100], color='r')\n",
        "plt.plot(test_2[:100] ,color='g')\n",
        "plt.title(\"WEATHER PREDICTION\")\n",
        "plt.xlabel(\"Time\")\n",
        "plt.ylabel(\"Temperature\")\n",
        "plt.legend(('prediction', 'reality'),loc='upper right')\n",
        "plt.show()"
      ],
      "metadata": {
        "colab": {
          "base_uri": "https://localhost:8080/",
          "height": 295
        },
        "id": "lsXRlnU3i88h",
        "outputId": "4b627e97-dc36-44f1-9d3d-d750d82f1bf3"
      },
      "execution_count": null,
      "outputs": [
        {
          "output_type": "display_data",
          "data": {
            "image/png": "[encoded data removed]",
            "text/plain": [
              "<Figure size 432x288 with 1 Axes>"
            ]
          },
          "metadata": {
            "needs_background": "light"
          }
        }
      ]
    }
  ]
}